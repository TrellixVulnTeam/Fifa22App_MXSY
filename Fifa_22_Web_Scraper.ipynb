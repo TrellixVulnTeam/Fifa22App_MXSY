{
  "nbformat": 4,
  "nbformat_minor": 0,
  "metadata": {
    "colab": {
      "name": "Fifa 22 Web Scraper.ipynb",
      "provenance": [],
      "collapsed_sections": []
    },
    "kernelspec": {
      "name": "python3",
      "display_name": "Python 3"
    },
    "language_info": {
      "name": "python"
    }
  },
  "cells": [
    {
      "cell_type": "markdown",
      "metadata": {
        "id": "eGxWoODFHH_l"
      },
      "source": [
        "Web Scraper"
      ]
    },
    {
      "cell_type": "code",
      "metadata": {
        "id": "c5vaIieNG_pz"
      },
      "source": [
        "import requests\n",
        "import pandas as pd\n",
        "from bs4 import BeautifulSoup"
      ],
      "execution_count": null,
      "outputs": []
    },
    {
      "cell_type": "code",
      "metadata": {
        "id": "VDTTOCNIHQeU"
      },
      "source": [
        "def fifa22_logo_scrape():\n",
        "  url = 'https://sofifa.com/teams?type=club&offset=0'\n",
        "\n",
        "  j = 0\n",
        "\n",
        "  names = []\n",
        "  logo_url = []\n",
        "\n",
        "  while url and j < 720:\n",
        "    url = f'https://sofifa.com/teams?type=club&offset={j}'\n",
        "    r = requests.get(url)\n",
        "    soup = BeautifulSoup(r.text, 'html')\n",
        "\n",
        "    tbody = soup.find('tbody')\n",
        "\n",
        "    #Get all names for validation with original set\n",
        "    for x in tbody:\n",
        "      name = x.find('div', {\"class\":'bp3-text-overflow-ellipsis'}).text.strip()\n",
        "      names.append(name)\n",
        "\n",
        "    #Get all team logos urls\n",
        "    src = tbody.find_all('img', {\"class\":'team'})\n",
        "    for l in src:\n",
        "      url = l['data-src']\n",
        "      logo_url.append(url)\n",
        "\n",
        "    j+=60\n",
        "\n",
        "  #Convert to larger pic\n",
        "  logo_url = [sub.replace('/60', '/180') for sub in logo_url]\n",
        "  \n",
        "  return dict(zip(names,logo_url))\n",
        "\n",
        "logo_data = fifa22_logo_scrape()\n",
        "logo_data"
      ],
      "execution_count": null,
      "outputs": []
    },
    {
      "cell_type": "code",
      "metadata": {
        "id": "YM7r3NIwz-O3"
      },
      "source": [
        "def fifa22_flag_scrape():\n",
        "  url = 'https://sofifa.com/teams?type=national'\n",
        "  r = requests.get(url)\n",
        "  soup = BeautifulSoup(r.text, 'html')\n",
        "\n",
        "  flag_url = []\n",
        "  names = []\n",
        "\n",
        "  tbody = soup.find('tbody')\n",
        "\n",
        "  #Get all names for validation with original set\n",
        "  for x in tbody:\n",
        "    name = x.find('div', {\"class\":'bp3-text-overflow-ellipsis'}).text.strip()\n",
        "    names.append(name)\n",
        "\n",
        "  #Get all country flags\n",
        "  src = tbody.find_all('img', {\"class\":'team'})\n",
        "  for k in src:\n",
        "    url = k['data-src']\n",
        "    flag_url.append(url)\n",
        "\n",
        "\n",
        "  #Convert to larger pic\n",
        "  flag_url = [sub.replace('60.png', '180.png') for sub in flag_url]\n",
        "\n",
        "  return dict(zip(names,flag_url))\n",
        "\n",
        "flag_data = fifa22_flag_scrape()\n",
        "flag_data"
      ],
      "execution_count": null,
      "outputs": []
    },
    {
      "cell_type": "markdown",
      "metadata": {
        "id": "57Fm5VzCHJll"
      },
      "source": [
        "Data Cleaning"
      ]
    },
    {
      "cell_type": "code",
      "metadata": {
        "id": "wuaMACoWMP1g"
      },
      "source": [
        "player_data = pd.read_csv('players_fifa22.csv')\n",
        "team_data = pd.read_csv('teams_fifa22.csv')"
      ],
      "execution_count": null,
      "outputs": []
    },
    {
      "cell_type": "code",
      "metadata": {
        "id": "jteO08AiPxK1"
      },
      "source": [
        "team_data['League'] = team_data['League'].str.replace(u\" \\xa0\", u\" \")\n",
        "team_data['League'] = team_data['League'].str.replace(r\" \\(.*\\)\",\"\")\n",
        "team_data = team_data.append({\"Name\": \"CF Monterrey\", \"League\":\"Mexican Liga MX\"}, ignore_index=True)"
      ],
      "execution_count": null,
      "outputs": []
    },
    {
      "cell_type": "code",
      "metadata": {
        "colab": {
          "base_uri": "https://localhost:8080/",
          "height": 415
        },
        "id": "6FHBqFaW60Mg",
        "outputId": "2df0721a-eba0-4fb7-a249-41b9febe7bf6"
      },
      "source": [
        "team_data"
      ],
      "execution_count": null,
      "outputs": [
        {
          "output_type": "execute_result",
          "data": {
            "text/html": [
              "<div>\n",
              "<style scoped>\n",
              "    .dataframe tbody tr th:only-of-type {\n",
              "        vertical-align: middle;\n",
              "    }\n",
              "\n",
              "    .dataframe tbody tr th {\n",
              "        vertical-align: top;\n",
              "    }\n",
              "\n",
              "    .dataframe thead th {\n",
              "        text-align: right;\n",
              "    }\n",
              "</style>\n",
              "<table border=\"1\" class=\"dataframe\">\n",
              "  <thead>\n",
              "    <tr style=\"text-align: right;\">\n",
              "      <th></th>\n",
              "      <th>ID</th>\n",
              "      <th>Name</th>\n",
              "      <th>League</th>\n",
              "      <th>LeagueId</th>\n",
              "      <th>Overall</th>\n",
              "      <th>Attack</th>\n",
              "      <th>Midfield</th>\n",
              "      <th>Defence</th>\n",
              "      <th>TransferBudget</th>\n",
              "      <th>DomesticPrestige</th>\n",
              "      <th>IntPrestige</th>\n",
              "      <th>Players</th>\n",
              "      <th>StartingAverageAge</th>\n",
              "      <th>AllTeamAverageAge</th>\n",
              "    </tr>\n",
              "  </thead>\n",
              "  <tbody>\n",
              "    <tr>\n",
              "      <th>0</th>\n",
              "      <td>1.0</td>\n",
              "      <td>Arsenal</td>\n",
              "      <td>English Premier League</td>\n",
              "      <td>13.0</td>\n",
              "      <td>79.0</td>\n",
              "      <td>83.0</td>\n",
              "      <td>81.0</td>\n",
              "      <td>77.0</td>\n",
              "      <td>77500000.0</td>\n",
              "      <td>7.0</td>\n",
              "      <td>7.0</td>\n",
              "      <td>33.0</td>\n",
              "      <td>25.1</td>\n",
              "      <td>23.2</td>\n",
              "    </tr>\n",
              "    <tr>\n",
              "      <th>1</th>\n",
              "      <td>2.0</td>\n",
              "      <td>Aston Villa</td>\n",
              "      <td>English Premier League</td>\n",
              "      <td>13.0</td>\n",
              "      <td>78.0</td>\n",
              "      <td>79.0</td>\n",
              "      <td>76.0</td>\n",
              "      <td>77.0</td>\n",
              "      <td>37500000.0</td>\n",
              "      <td>4.0</td>\n",
              "      <td>3.0</td>\n",
              "      <td>31.0</td>\n",
              "      <td>24.7</td>\n",
              "      <td>23.3</td>\n",
              "    </tr>\n",
              "    <tr>\n",
              "      <th>2</th>\n",
              "      <td>1925.0</td>\n",
              "      <td>Brentford</td>\n",
              "      <td>English Premier League</td>\n",
              "      <td>13.0</td>\n",
              "      <td>73.0</td>\n",
              "      <td>73.0</td>\n",
              "      <td>74.0</td>\n",
              "      <td>73.0</td>\n",
              "      <td>18000000.0</td>\n",
              "      <td>1.0</td>\n",
              "      <td>1.0</td>\n",
              "      <td>33.0</td>\n",
              "      <td>24.7</td>\n",
              "      <td>23.4</td>\n",
              "    </tr>\n",
              "    <tr>\n",
              "      <th>3</th>\n",
              "      <td>1808.0</td>\n",
              "      <td>Brighton &amp; Hove Albion</td>\n",
              "      <td>English Premier League</td>\n",
              "      <td>13.0</td>\n",
              "      <td>76.0</td>\n",
              "      <td>75.0</td>\n",
              "      <td>77.0</td>\n",
              "      <td>75.0</td>\n",
              "      <td>28000000.0</td>\n",
              "      <td>2.0</td>\n",
              "      <td>1.0</td>\n",
              "      <td>33.0</td>\n",
              "      <td>26.9</td>\n",
              "      <td>23.5</td>\n",
              "    </tr>\n",
              "    <tr>\n",
              "      <th>4</th>\n",
              "      <td>1796.0</td>\n",
              "      <td>Burnley</td>\n",
              "      <td>English Premier League</td>\n",
              "      <td>13.0</td>\n",
              "      <td>76.0</td>\n",
              "      <td>76.0</td>\n",
              "      <td>76.0</td>\n",
              "      <td>77.0</td>\n",
              "      <td>22000000.0</td>\n",
              "      <td>2.0</td>\n",
              "      <td>1.0</td>\n",
              "      <td>33.0</td>\n",
              "      <td>28.6</td>\n",
              "      <td>26.6</td>\n",
              "    </tr>\n",
              "    <tr>\n",
              "      <th>...</th>\n",
              "      <td>...</td>\n",
              "      <td>...</td>\n",
              "      <td>...</td>\n",
              "      <td>...</td>\n",
              "      <td>...</td>\n",
              "      <td>...</td>\n",
              "      <td>...</td>\n",
              "      <td>...</td>\n",
              "      <td>...</td>\n",
              "      <td>...</td>\n",
              "      <td>...</td>\n",
              "      <td>...</td>\n",
              "      <td>...</td>\n",
              "      <td>...</td>\n",
              "    </tr>\n",
              "    <tr>\n",
              "      <th>730</th>\n",
              "      <td>112916.0</td>\n",
              "      <td>Aragua Fútbol Club</td>\n",
              "      <td>Venezuelan Primera División</td>\n",
              "      <td>2019.0</td>\n",
              "      <td>63.0</td>\n",
              "      <td>63.0</td>\n",
              "      <td>62.0</td>\n",
              "      <td>61.0</td>\n",
              "      <td>1400000.0</td>\n",
              "      <td>3.0</td>\n",
              "      <td>3.0</td>\n",
              "      <td>28.0</td>\n",
              "      <td>27.4</td>\n",
              "      <td>25.5</td>\n",
              "    </tr>\n",
              "    <tr>\n",
              "      <th>731</th>\n",
              "      <td>112853.0</td>\n",
              "      <td>Deportivo La Guaira FC</td>\n",
              "      <td>Venezuelan Primera División</td>\n",
              "      <td>2019.0</td>\n",
              "      <td>66.0</td>\n",
              "      <td>65.0</td>\n",
              "      <td>66.0</td>\n",
              "      <td>65.0</td>\n",
              "      <td>1200000.0</td>\n",
              "      <td>4.0</td>\n",
              "      <td>1.0</td>\n",
              "      <td>28.0</td>\n",
              "      <td>26.6</td>\n",
              "      <td>25.6</td>\n",
              "    </tr>\n",
              "    <tr>\n",
              "      <th>732</th>\n",
              "      <td>110990.0</td>\n",
              "      <td>Deportivo Táchira FC</td>\n",
              "      <td>Venezuelan Primera División</td>\n",
              "      <td>2019.0</td>\n",
              "      <td>63.0</td>\n",
              "      <td>65.0</td>\n",
              "      <td>63.0</td>\n",
              "      <td>63.0</td>\n",
              "      <td>1900000.0</td>\n",
              "      <td>6.0</td>\n",
              "      <td>4.0</td>\n",
              "      <td>27.0</td>\n",
              "      <td>27.7</td>\n",
              "      <td>26.1</td>\n",
              "    </tr>\n",
              "    <tr>\n",
              "      <th>733</th>\n",
              "      <td>112914.0</td>\n",
              "      <td>Metropolitanos de Caracas FC</td>\n",
              "      <td>Venezuelan Primera División</td>\n",
              "      <td>2019.0</td>\n",
              "      <td>66.0</td>\n",
              "      <td>68.0</td>\n",
              "      <td>65.0</td>\n",
              "      <td>63.0</td>\n",
              "      <td>1500000.0</td>\n",
              "      <td>1.0</td>\n",
              "      <td>1.0</td>\n",
              "      <td>27.0</td>\n",
              "      <td>26.4</td>\n",
              "      <td>25.0</td>\n",
              "    </tr>\n",
              "    <tr>\n",
              "      <th>734</th>\n",
              "      <td>NaN</td>\n",
              "      <td>CF Monterrey</td>\n",
              "      <td>Mexican Liga MX</td>\n",
              "      <td>NaN</td>\n",
              "      <td>NaN</td>\n",
              "      <td>NaN</td>\n",
              "      <td>NaN</td>\n",
              "      <td>NaN</td>\n",
              "      <td>NaN</td>\n",
              "      <td>NaN</td>\n",
              "      <td>NaN</td>\n",
              "      <td>NaN</td>\n",
              "      <td>NaN</td>\n",
              "      <td>NaN</td>\n",
              "    </tr>\n",
              "  </tbody>\n",
              "</table>\n",
              "<p>735 rows × 14 columns</p>\n",
              "</div>"
            ],
            "text/plain": [
              "           ID  ... AllTeamAverageAge\n",
              "0         1.0  ...              23.2\n",
              "1         2.0  ...              23.3\n",
              "2      1925.0  ...              23.4\n",
              "3      1808.0  ...              23.5\n",
              "4      1796.0  ...              26.6\n",
              "..        ...  ...               ...\n",
              "730  112916.0  ...              25.5\n",
              "731  112853.0  ...              25.6\n",
              "732  110990.0  ...              26.1\n",
              "733  112914.0  ...              25.0\n",
              "734       NaN  ...               NaN\n",
              "\n",
              "[735 rows x 14 columns]"
            ]
          },
          "metadata": {},
          "execution_count": 6
        }
      ]
    },
    {
      "cell_type": "code",
      "metadata": {
        "id": "CbzzaTwzMlV2"
      },
      "source": [
        "d_league = pd.Series(team_data['League'].values, index=team_data['Name']).to_dict()"
      ],
      "execution_count": null,
      "outputs": []
    },
    {
      "cell_type": "code",
      "metadata": {
        "id": "JUJNZHUoTokf"
      },
      "source": [
        "set(list(d_league.values()))"
      ],
      "execution_count": null,
      "outputs": []
    },
    {
      "cell_type": "code",
      "metadata": {
        "id": "HYtEXZ_1ON01"
      },
      "source": [
        "d_club_country = {\"Argentina Primera División\":\"Argentina\", \"Australian Hyundai A-League\":\"Australia\", \"Austrian Football Bundesliga\":\"Austria\",\n",
        "                  \"Belgian Jupiler Pro League\":\"Belgium\", \"Campeonato Brasileiro Série A\":\"Brazil\", \"Chilian Campeonato Nacional\":\"Chile\", \n",
        "                  \"Chinese Super League\":\"China\", \"Cypriot First Division\": 'Cyprus', \"Colombian Liga Postobón\":\"Columbia\", \"Danish Superliga\":\"Denmark\",\n",
        "                  \"English Premier League\":\"England\", \"English League Championship\":\"England\", \"English League One\": \"England\",\"English League Two\":\"England\",\n",
        "                  \"English National League\": \"England\", \"French Ligue 1\":\"France\", \"French Ligue 2\":\"France\", \"German 1. Bundesliga\":\"Germany\",\n",
        "                  \"German 2. Bundesliga\": \"Germany\", \"German 3. Bundesliga\": \"Germany\", \"Hungarian Nemzeti Bajnokság I\":\"Hungary\",\"Ecuadorian Serie A\": \"Ecuador\",\n",
        "                  \"Rep. Ireland Airtricity League\":\"Ireland\", \"Italian Serie A\":\"Italy\", \"Italian Serie B\":\"Italy\", \"Indian Super League\":\"India\",\n",
        "                  \"Japanese J. League Division 1\":\"Japan\", \"Korean K League 1\": \"Korea Republic\", \"Mexican Liga MX\":\"Mexico\", \"Holland Eredivisie\": \"Netherlands\",\n",
        "                  \"Norwegian Eliteserien\": \"Norway\", \"Liga de Fútbol Profesional Boliviano\": \"Bolivia\",\"Polish T-Mobile Ekstraklasa\":\"Poland\", \"Portuguese Liga ZON SAGRES\":\"Portugal\",\n",
        "                  \"Saudi Abdul L. Jameel League\":\"Saudi Arabia\", \"Scottish Premiership\":\"Scotland\", \"UAE Arabian Gulf League\":\"UAE\",\n",
        "                  \"Spain Primera Division\":\"Spain\", \"Spanish Segunda División\":\"Spain\", \"Swedish Allsvenskan\":\"Sweden\", \"Paraguayan Primera División\":\"Paraguay\",\n",
        "                  \"Peruvian Primera División\": \"Peru\", \"Uruguayan Primera División\": \"Uruguay\", \"Venezuelan Primera División\":\"Venezuela\",\n",
        "                  \"Swiss Super League\":\"Switzerland\", \"Turkish Süper Lig\":\"Turkey\", \"USA Major League Soccer\":\"United States\", \"Greek Super League\":\"Greece\",\n",
        "                  \"Russian Premier League\":\"Russia\", \"Croatian Prva HNL\":\"Croatia\", \"Ukrainian Premier League\":\"Ukraine\", \"Romanian Liga I\":\"Romania\",\n",
        "                  \"Finnish Veikkausliiga\":\"Finland\", \"South African Premier Division\":\"South Africa\", \"Czech Republic Gambrinus Liga\":\"Czech Republic\"}"
      ],
      "execution_count": null,
      "outputs": []
    },
    {
      "cell_type": "code",
      "metadata": {
        "id": "SSernLCcAt6D"
      },
      "source": [
        "player_data.columns"
      ],
      "execution_count": null,
      "outputs": []
    },
    {
      "cell_type": "code",
      "metadata": {
        "id": "-xKtvcMfHBJg"
      },
      "source": [
        "new_flag_logo = ['https://cdn.sofifa.net/teams/1361/180.png','https://cdn.sofifa.net/flags/undefined@3x.png','https://cdn.sofifa.net/flags/undefined@3x.png',\n",
        "'https://cdn.sofifa.net/teams/111130/180.png','https://cdn.sofifa.net/teams/1377/180.png','https://cdn.sofifa.net/flags/undefined@3x.png',\n",
        "'https://cdn.sofifa.net/flags/undefined@3x.png', 'https://cdn.sofifa.net/flags/undefined@3x.png', 'https://cdn.sofifa.net/flags/undefined@3x.png',\n",
        " 'https://cdn.sofifa.net/teams/1364/180.png', 'https://cdn.sofifa.net/flags/undefined@3x.png', 'https://cdn.sofifa.net/flags/undefined@3x.png', 'https://cdn.sofifa.net/flags/undefined@3x.png',\n",
        " 'https://cdn.sofifa.net/flags/undefined@3x.png', 'https://cdn.sofifa.net/flags/undefined@3x.png', \"https://cdn.sofifa.net/flags/undefined@3x.png\",\n",
        " 'https://cdn.sofifa.net/flags/undefined@3x.png', 'https://cdn.sofifa.net/flags/undefined@3x.png', 'https://cdn.sofifa.net/teams/1395/180.png', 'https://cdn.sofifa.net/teams/111109/180.png',\n",
        " 'https://cdn.sofifa.net/flags/undefined@3x.png', 'https://cdn.sofifa.net/flags/undefined@3x.png', 'https://cdn.sofifa.net/teams/1365/180.png', 'https://cdn.sofifa.net/flags/undefined@3x.png',\n",
        " 'https://cdn.sofifa.net/flags/undefined@3x.png', 'https://cdn.sofifa.net/teams/111487/180.png', 'https://cdn.sofifa.net/teams/111459/180.png', 'https://cdn.sofifa.net/flags/undefined@3x.png',\n",
        " 'https://cdn.sofifa.net/flags/undefined@3x.png', 'https://cdn.sofifa.net/flags/undefined@3x.png', 'https://cdn.sofifa.net/flags/undefined@3x.png', 'https://cdn.sofifa.net/teams/111108/180.png',\n",
        " 'https://cdn.sofifa.net/flags/undefined@3x.png', 'https://cdn.sofifa.net/flags/undefined@3x.png', 'https://cdn.sofifa.net/flags/undefined@3x.png', 'https://cdn.sofifa.net/flags/undefined@3x.png',\n",
        " 'https://cdn.sofifa.net/flags/undefined@3x.png', 'https://cdn.sofifa.net/teams/111465/180.png', 'https://cdn.sofifa.net/flags/undefined@3x.png', 'https://cdn.sofifa.net/flags/undefined@3x.png',\n",
        " 'https://cdn.sofifa.net/flags/undefined@3x.png', 'https://cdn.sofifa.net/flags/undefined@3x.png', 'https://cdn.sofifa.net/flags/undefined@3x.png', 'https://cdn.sofifa.net/teams/1375/180.png',\n",
        " 'https://cdn.sofifa.net/flags/undefined@3x.png', 'https://cdn.sofifa.net/flags/undefined@3x.png', 'https://cdn.sofifa.net/flags/undefined@3x.png', 'https://cdn.sofifa.net/flags/undefined@3x.png',\n",
        " 'https://cdn.sofifa.net/flags/undefined@3x.png', 'https://cdn.sofifa.net/flags/undefined@3x.png', 'https://cdn.sofifa.net/flags/undefined@3x.png', 'https://cdn.sofifa.net/flags/undefined@3x.png',\n",
        " 'https://cdn.sofifa.net/flags/undefined@3x.png', 'https://cdn.sofifa.net/flags/undefined@3x.png', 'https://cdn.sofifa.net/flags/undefined@3x.png', 'https://cdn.sofifa.net/flags/undefined@3x.png',\n",
        " 'https://cdn.sofifa.net/flags/undefined@3x.png', 'https://cdn.sofifa.net/flags/undefined@3x.png', 'https://cdn.sofifa.net/flags/undefined@3x.png', 'https://cdn.sofifa.net/flags/undefined@3x.png',\n",
        " 'https://cdn.sofifa.net/flags/undefined@3x.png', 'https://cdn.sofifa.net/teams/111099/180.png', 'https://cdn.sofifa.net/flags/undefined@3x.png', 'https://cdn.sofifa.net/flags/undefined@3x.png',\n",
        " 'https://cdn.sofifa.net/flags/undefined@3x.png', 'https://cdn.sofifa.net/flags/undefined@3x.png', 'https://cdn.sofifa.net/flags/undefined@3x.png', 'https://cdn.sofifa.net/flags/undefined@3x.png',\n",
        " 'https://cdn.sofifa.net/flags/undefined@3x.png', 'https://cdn.sofifa.net/flags/undefined@3x.png', 'https://cdn.sofifa.net/flags/undefined@3x.png', 'https://cdn.sofifa.net/flags/undefined@3x.png',\n",
        " 'https://cdn.sofifa.net/flags/undefined@3x.png', 'https://cdn.sofifa.net/flags/undefined@3x.png', 'https://cdn.sofifa.net/flags/undefined@3x.png', 'https://cdn.sofifa.net/flags/undefined@3x.png',\n",
        " 'https://cdn.sofifa.net/flags/undefined@3x.png', 'https://cdn.sofifa.net/flags/undefined@3x.png', 'https://cdn.sofifa.net/teams/111451/180.png', 'https://cdn.sofifa.net/flags/undefined@3x.png',\n",
        " 'https://cdn.sofifa.net/flags/undefined@3x.png', 'https://cdn.sofifa.net/teams/1327/180.png', 'https://cdn.sofifa.net/flags/undefined@3x.png', 'https://cdn.sofifa.net/flags/undefined@3x.png',\n",
        " 'https://cdn.sofifa.net/flags/undefined@3x.png', 'https://cdn.sofifa.net/flags/undefined@3x.png', 'https://cdn.sofifa.net/flags/undefined@3x.png', 'https://cdn.sofifa.net/flags/undefined@3x.png',\n",
        " 'https://cdn.sofifa.net/flags/undefined@3x.png', 'https://cdn.sofifa.net/flags/undefined@3x.png', 'https://cdn.sofifa.net/flags/undefined@3x.png', 'https://cdn.sofifa.net/flags/undefined@3x.png',\n",
        " 'https://cdn.sofifa.net/flags/undefined@3x.png', 'https://cdn.sofifa.net/flags/undefined@3x.png', 'https://cdn.sofifa.net/flags/undefined@3x.png', 'https://cdn.sofifa.net/flags/undefined@3x.png',\n",
        " 'https://cdn.sofifa.net/flags/undefined@3x.png', 'https://cdn.sofifa.net/flags/undefined@3x.png','https://cdn.sofifa.net/flags/undefined@3x.png', 'https://cdn.sofifa.net/teams/111466/180.png',\n",
        " 'https://cdn.sofifa.net/flags/undefined@3x.png', 'https://cdn.sofifa.net/flags/undefined@3x.png', 'https://cdn.sofifa.net/flags/undefined@3x.png', 'https://cdn.sofifa.net/flags/undefined@3x.png',\n",
        " 'https://cdn.sofifa.net/flags/undefined@3x.png', 'https://cdn.sofifa.net/flags/undefined@3x.png', 'https://cdn.sofifa.net/flags/undefined@3x.png', 'https://cdn.sofifa.net/flags/undefined@3x.png',\n",
        " 'https://cdn.sofifa.net/flags/undefined@3x.png', 'https://cdn.sofifa.net/flags/undefined@3x.png', 'https://cdn.sofifa.net/flags/undefined@3x.png', 'https://cdn.sofifa.net/flags/undefined@3x.png',\n",
        " 'https://cdn.sofifa.net/flags/undefined@3x.png', 'https://cdn.sofifa.net/flags/undefined@3x.png', 'https://cdn.sofifa.net/flags/undefined@3x.png', 'https://cdn.sofifa.net/flags/undefined@3x.png',\n",
        " 'https://cdn.sofifa.net/flags/undefined@3x.png', 'https://cdn.sofifa.net/flags/undefined@3x.png', 'https://cdn.sofifa.net/flags/undefined@3x.png', 'https://cdn.sofifa.net/flags/undefined@3x.png',\n",
        " 'https://cdn.sofifa.net/flags/undefined@3x.png', 'https://cdn.sofifa.net/flags/undefined@3x.png', 'https://cdn.sofifa.net/flags/undefined@3x.png', 'https://cdn.sofifa.net/flags/undefined@3x.png',\n",
        " 'https://cdn.sofifa.net/flags/undefined@3x.png', 'https://cdn.sofifa.net/flags/undefined@3x.png', 'https://cdn.sofifa.net/flags/undefined@3x.png',\n",
        " 'https://cdn.sofifa.net/flags/undefined@3x.png', 'https://cdn.sofifa.net/flags/undefined@3x.png', 'https://cdn.sofifa.net/flags/undefined@3x.png']\n"
      ],
      "execution_count": null,
      "outputs": []
    },
    {
      "cell_type": "code",
      "metadata": {
        "id": "QaZ_AlEeZrwo"
      },
      "source": [
        "player_data['PhotoUrl'] = player_data['PhotoUrl'].replace({\"22_60\":\"22_180\"}, regex=True)"
      ],
      "execution_count": null,
      "outputs": []
    },
    {
      "cell_type": "code",
      "metadata": {
        "id": "-evhqzQLZQhJ"
      },
      "source": [
        "player_data['Club League'] = player_data['Club'].map(d_league)\n",
        "player_data['Club Country'] = player_data['Club League'].map(d_club_country)\n",
        "player_data['Flag'] = player_data['Nationality'].map(flag_data)\n",
        "player_data['Club Logo'] = player_data['Club'].map(logo_data)"
      ],
      "execution_count": null,
      "outputs": []
    },
    {
      "cell_type": "code",
      "metadata": {
        "id": "5V9jjsdA82YO"
      },
      "source": [
        "fifa22_finaldata = player_data[['ID', 'Name', 'FullName', 'Age', 'Height', 'Weight', 'PhotoUrl',\n",
        "       'Nationality', 'Flag', 'Club', 'Club Logo', 'Club League', 'Club Country', 'Overall',\n",
        "       'Potential', 'Growth', 'TotalStats',\n",
        "       'BaseStats', 'Positions', 'BestPosition', 'ValueEUR', 'WageEUR',\n",
        "       'ReleaseClause', 'ClubPosition', 'ContractUntil', 'ClubNumber',\n",
        "       'ClubJoined', 'OnLoad', 'NationalTeam', 'NationalPosition',\n",
        "       'NationalNumber', 'PreferredFoot', 'IntReputation', 'WeakFoot',\n",
        "       'SkillMoves', 'AttackingWorkRate', 'DefensiveWorkRate', 'PaceTotal',\n",
        "       'ShootingTotal', 'PassingTotal', 'DribblingTotal', 'DefendingTotal',\n",
        "       'PhysicalityTotal', 'Crossing', 'Finishing', 'HeadingAccuracy',\n",
        "       'ShortPassing', 'Volleys', 'Dribbling', 'Curve', 'FKAccuracy',\n",
        "       'LongPassing', 'BallControl', 'Acceleration', 'SprintSpeed', 'Agility',\n",
        "       'Reactions', 'Balance', 'ShotPower', 'Jumping', 'Stamina', 'Strength',\n",
        "       'LongShots', 'Aggression', 'Interceptions', 'Positioning', 'Vision',\n",
        "       'Penalties', 'Composure', 'Marking', 'StandingTackle', 'SlidingTackle',\n",
        "       'GKDiving', 'GKHandling', 'GKKicking', 'GKPositioning', 'GKReflexes',\n",
        "       'STRating', 'LWRating', 'LFRating', 'CFRating', 'RFRating', 'RWRating',\n",
        "       'CAMRating', 'LMRating', 'CMRating', 'RMRating', 'LWBRating',\n",
        "       'CDMRating', 'RWBRating', 'LBRating', 'CBRating', 'RBRating',\n",
        "       'GKRating', ]]"
      ],
      "execution_count": null,
      "outputs": []
    },
    {
      "cell_type": "code",
      "metadata": {
        "id": "sQiWdn2oVGLK"
      },
      "source": [
        "no_flag = fifa22_finaldata[fifa22_finaldata['Flag'].isna()]\n",
        "new_flags = no_flag['Nationality'].unique()"
      ],
      "execution_count": null,
      "outputs": []
    },
    {
      "cell_type": "code",
      "metadata": {
        "id": "KE1UmNmkUBls"
      },
      "source": [
        "add_flag_d = dict(zip(new_flags,new_flag_logo))"
      ],
      "execution_count": null,
      "outputs": []
    },
    {
      "cell_type": "code",
      "metadata": {
        "id": "7KC-ugyIUSVj"
      },
      "source": [
        "all_flags = {**flag_data, **add_flag_d}\n",
        "all_flags"
      ],
      "execution_count": null,
      "outputs": []
    },
    {
      "cell_type": "code",
      "metadata": {
        "id": "3g4BT5RDD5qB"
      },
      "source": [
        "fifa22_finaldata['Flag'] = fifa22_finaldata['Nationality'].map(all_flags)"
      ],
      "execution_count": null,
      "outputs": []
    },
    {
      "cell_type": "code",
      "metadata": {
        "colab": {
          "base_uri": "https://localhost:8080/",
          "height": 17
        },
        "id": "RoFwvuscBKyC",
        "outputId": "11ca4828-b1b0-4c3b-8cfb-401246def2d7"
      },
      "source": [
        "from google.colab import files\n",
        "\n",
        "fifa22_finaldata.to_csv('fifa22data.csv')\n",
        "files.download('fifa22data.csv')"
      ],
      "execution_count": null,
      "outputs": [
        {
          "output_type": "display_data",
          "data": {
            "application/javascript": [
              "\n",
              "    async function download(id, filename, size) {\n",
              "      if (!google.colab.kernel.accessAllowed) {\n",
              "        return;\n",
              "      }\n",
              "      const div = document.createElement('div');\n",
              "      const label = document.createElement('label');\n",
              "      label.textContent = `Downloading \"${filename}\": `;\n",
              "      div.appendChild(label);\n",
              "      const progress = document.createElement('progress');\n",
              "      progress.max = size;\n",
              "      div.appendChild(progress);\n",
              "      document.body.appendChild(div);\n",
              "\n",
              "      const buffers = [];\n",
              "      let downloaded = 0;\n",
              "\n",
              "      const channel = await google.colab.kernel.comms.open(id);\n",
              "      // Send a message to notify the kernel that we're ready.\n",
              "      channel.send({})\n",
              "\n",
              "      for await (const message of channel.messages) {\n",
              "        // Send a message to notify the kernel that we're ready.\n",
              "        channel.send({})\n",
              "        if (message.buffers) {\n",
              "          for (const buffer of message.buffers) {\n",
              "            buffers.push(buffer);\n",
              "            downloaded += buffer.byteLength;\n",
              "            progress.value = downloaded;\n",
              "          }\n",
              "        }\n",
              "      }\n",
              "      const blob = new Blob(buffers, {type: 'application/binary'});\n",
              "      const a = document.createElement('a');\n",
              "      a.href = window.URL.createObjectURL(blob);\n",
              "      a.download = filename;\n",
              "      div.appendChild(a);\n",
              "      a.click();\n",
              "      div.remove();\n",
              "    }\n",
              "  "
            ],
            "text/plain": [
              "<IPython.core.display.Javascript object>"
            ]
          },
          "metadata": {}
        },
        {
          "output_type": "display_data",
          "data": {
            "application/javascript": [
              "download(\"download_89f08e11-aad4-49fc-946f-0fdb40c2dd20\", \"fifa22data.csv\", 10032527)"
            ],
            "text/plain": [
              "<IPython.core.display.Javascript object>"
            ]
          },
          "metadata": {}
        }
      ]
    }
  ]
}